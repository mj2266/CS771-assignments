{
 "cells": [
  {
   "cell_type": "markdown",
   "id": "011680d8",
   "metadata": {},
   "source": [
    "# Assignment 2\n",
    "Roll num 21111038 <br/>\n",
    "This code takes 4 mins to run\n"
   ]
  },
  {
   "cell_type": "markdown",
   "id": "60e70cfd",
   "metadata": {},
   "source": [
    "## Question 1) Linear Regression"
   ]
  },
  {
   "cell_type": "markdown",
   "id": "4fb028f0",
   "metadata": {},
   "source": [
    "Importing the Required Packages"
   ]
  },
  {
   "cell_type": "code",
   "execution_count": 1,
   "id": "1ca9eb05",
   "metadata": {},
   "outputs": [],
   "source": [
    "import numpy as np\n",
    "import matplotlib.pyplot as plt\n",
    "import random\n",
    "from math import ceil\n",
    "import math"
   ]
  },
  {
   "cell_type": "markdown",
   "id": "cb59a491",
   "metadata": {},
   "source": [
    "Vanila gradient descent code mentioned in question"
   ]
  },
  {
   "cell_type": "code",
   "execution_count": 2,
   "id": "8525cd3e",
   "metadata": {},
   "outputs": [],
   "source": [
    "def gradient_descent(gradient,init_,learn_rate, n_iter=50, tol=1e-06):\n",
    "    x = init_\n",
    "    for _ in range(n_iter):\n",
    "        delta = -learn_rate * gradient(x)\n",
    "        if np.all(np.abs(delta) <= tol):\n",
    "            break\n",
    "        x += delta\n",
    "    return round(x*1000)/1000"
   ]
  },
  {
   "cell_type": "markdown",
   "id": "6da6e2da",
   "metadata": {},
   "source": [
    "### Question 1.a) Finding Minima for given functions\n",
    "Using the above function for finding minima<br/>\n",
    "i)Finding Minima for $ f(x) = x^2 + 3x + 4 $\n",
    "\n",
    "We need to find the derivative of f(x): \n",
    "$$\\frac{\\partial f(x)}{\\partial x} = 2x + 3$$\n",
    "\n",
    "Thus we will pass gradient=lambda v: 2*v + 3 to the gradient_descent function "
   ]
  },
  {
   "cell_type": "code",
   "execution_count": 3,
   "id": "7ddfd9d8",
   "metadata": {},
   "outputs": [
    {
     "name": "stdout",
     "output_type": "stream",
     "text": [
      "Minima for the function x^2 + 3x + 4 is: -1.5. \n",
      "And its corresponding value is 1.75\n",
      "Visualizing the function\n"
     ]
    },
    {
     "data": {
      "image/png": "[encoded data removed]",
      "text/plain": [
       "<Figure size 432x288 with 1 Axes>"
      ]
     },
     "metadata": {
      "needs_background": "light"
     },
     "output_type": "display_data"
    }
   ],
   "source": [
    "minima_x1_coordinate = gradient_descent(gradient=lambda v:2*v + 3, init_=4.0, learn_rate=0.2) \n",
    "f1_x = lambda x: x*x + 3*x +4\n",
    "minima_y1_coordinate = f1_x(minima_x1_coordinate)\n",
    "print(f\"Minima for the function x^2 + 3x + 4 is: {minima_x1_coordinate}. \\nAnd its corresponding value is {minima_y1_coordinate}\")\n",
    "print(\"Visualizing the function\")\n",
    "x = np.arange(-3, 1, 0.1)\n",
    "y = f1_x(x)\n",
    "x_tick = np.arange(-3,1,0.5)\n",
    "plt.xticks(x_tick)\n",
    "plt.plot(x, y)\n",
    "plt.show()"
   ]
  },
  {
   "cell_type": "markdown",
   "id": "b763921f",
   "metadata": {},
   "source": [
    "ii)Finding Minima for $ g(x) = x^4 - 3x^2 + 2x $\n",
    "\n",
    "We need to find the derivative of g(x): \n",
    "$$\\frac{\\partial g(x)}{\\partial x} = 4x^3 - 6x + 2$$\n",
    "\n",
    "Thus we will pass gradient=lambda v: (4 * (v ** 3)) - (6 * v) + 2 to the gradient_descent function "
   ]
  },
  {
   "cell_type": "code",
   "execution_count": 4,
   "id": "2f188c87",
   "metadata": {},
   "outputs": [
    {
     "name": "stdout",
     "output_type": "stream",
     "text": [
      "Minima for the function x^4 - 3x^2 + 2*x  when initial values are on right side of local minima: 1.0. \n",
      " And its corresponding value is 0.0\n",
      "Minima for the function x^4 - 3x^2 + 2*x  when initial values are on left side of local minima: -1.366. \n",
      " And its corresponding value is -4.848076206064. \n",
      " Thus we got two minimas\n",
      "Global minima is at -1.366\n",
      "Visualizing the function\n"
     ]
    },
    {
     "data": {
      "image/png": "[encoded data removed]",
      "text/plain": [
       "<Figure size 432x288 with 1 Axes>"
      ]
     },
     "metadata": {
      "needs_background": "light"
     },
     "output_type": "display_data"
    }
   ],
   "source": [
    "minima_x2_coordinate = gradient_descent(gradient=lambda v: (4*(v ** 3))-(6*v) + 2, n_iter=300,init_=5.0, learn_rate=0.004) \n",
    "g_x = lambda x: x**4 - 3*x**2 + 2*x\n",
    "minima_y2_coordinate = g_x(minima_x2_coordinate)\n",
    "print(f\"Minima for the function x^4 - 3x^2 + 2*x  when initial values are on right side of local minima: {minima_x2_coordinate}. \\n \\\n",
    "And its corresponding value is {minima_y2_coordinate}\")\n",
    "\n",
    "minima_x3_coordinate = gradient_descent(gradient=lambda v: (4*(v ** 3))-(6*v) + 2, n_iter=300,init_=0.0, learn_rate=0.004) \n",
    "minima_y3_coordinate = g_x(minima_x3_coordinate)\n",
    "print(f\"Minima for the function x^4 - 3x^2 + 2*x  when initial values are on left side of local minima: {minima_x3_coordinate}. \\n \\\n",
    "And its corresponding value is {minima_y3_coordinate}. \\n Thus we got two minimas\")\n",
    "print(\"Global minima is at -1.366\")\n",
    "\n",
    "print(\"Visualizing the function\")\n",
    "x = np.arange(-2, 2, 0.1)\n",
    "y = g_x(x)\n",
    "x_tick = np.arange(-3,3,0.5)\n",
    "plt.xticks(x_tick)\n",
    "plt.plot(x, y)\n",
    "plt.show()"
   ]
  },
  {
   "cell_type": "markdown",
   "id": "95f97bce",
   "metadata": {},
   "source": [
    "Thus for function 2, we found 2 minimas, one of which was local, and one was global. <br/>\n",
    "Parameter initiazation and Learning rate decides which minima will the function converge to."
   ]
  },
  {
   "cell_type": "markdown",
   "id": "d8c2cb47",
   "metadata": {},
   "source": [
    "### 1.b) Writing code to find linear regressor\n"
   ]
  },
  {
   "cell_type": "markdown",
   "id": "bdaa28b2",
   "metadata": {},
   "source": [
    "Value of the partial derivatives to update our weights for gradient descent will depend on how we define loss<br/>\n",
    "For linear regression, we define loss as \n",
    "$$ Loss = \\frac{1}{n} \\sum_{i=1}^n(y_i-y\\_pred_{i})^2 $$\n",
    "Our linear regression is given as y = aX + b <br/>\n",
    "Thus we need to find partial derivative of loss with respect to our weights a, b<br/>\n",
    "Partial derivatives are given as\n",
    "$$ d_a = \\frac {\\delta Loss}{\\delta a} = \\frac{-2}{n} \\sum_{i=1}^{n}x_{i}(y_{i}-y\\_pred_{i}) $$\n",
    "$$ d_b = \\frac {\\delta Loss}{\\delta b} = \\frac{-2}{n} \\sum_{i=1}^{n}(y_{i}-y\\_pred_{i}) $$\n",
    "\n",
    "Note: Here n = size taken in consideration for update, not the whole size <br/>\n",
    "Thus for every iteration, our weight update will be \n",
    "$$ a = a - learningrate * d_a $$\n",
    "$$ b = b - learningrate * d_b $$\n",
    "We will do this updates for number of iteration, or if d_a or d_b value is too insignificant for an update."
   ]
  },
  {
   "cell_type": "markdown",
   "id": "7746a7ca",
   "metadata": {},
   "source": [
    "- Note that for normal/batch gradient descent, whole data is processed before updating weights.\n"
   ]
  },
  {
   "cell_type": "code",
   "execution_count": 5,
   "id": "f432f7a6",
   "metadata": {},
   "outputs": [],
   "source": [
    "def initialize_parameters():\n",
    "    # Simply return random parameters between 0 and 1 for weights\n",
    "    return random.random(), random.random()\n",
    "\n",
    "def predict_y(X, a, b):\n",
    "    # This is Vectorized multiplication and addition.\n",
    "    # Thats why no loop required\n",
    "    # We use weights to predict y.\n",
    "    y_pred = a*X + b\n",
    "    return y_pred\n",
    "\n",
    "def compute_gradient(X, y, y_pred, a, b):\n",
    "    # Computing the gradient using the above formula\n",
    "    # Calculating this everytime because last batch might be smaller than og batch size\n",
    "    size_of_batch = len(X)\n",
    "\n",
    "    D_a = (-2/size_of_batch) * sum(X * (y - y_pred))  # Derivative wrt m\n",
    "    D_b = (-2/size_of_batch) * sum(y - y_pred)  # Derivative wrt c\n",
    "    return D_a, D_b\n",
    "\n",
    "def update_gradient(a, D_a, b, D_b, learning_rate):\n",
    "    # Update the gradients \n",
    "    a -= (learning_rate * D_a)\n",
    "    b -= (learning_rate * D_b)\n",
    "    return a, b\n",
    "\n",
    "def get_loss(y, y_pred):\n",
    "    # Using the loss formula defined above\n",
    "    return sum((y - y_pred)**2)/len(y)\n",
    "\n",
    "\n",
    "def linear_regressor_gradients(X, Y, learning_rate=0.02, iterations=500, tol=1e-06):\n",
    "    a,b = initialize_parameters()\n",
    "    n = len(Y)\n",
    "    loss = []\n",
    "    for i in range(iterations):\n",
    "        Y_pred = predict_y(X, a, b)\n",
    "        D_a, D_b = compute_gradient(X, Y, Y_pred, a, b)\n",
    "        \n",
    "        a, b = update_gradient(a, D_a, b, D_b, learning_rate)\n",
    "        \n",
    "        loss.append(get_loss(Y, Y_pred))\n",
    "        if (abs(D_a * learning_rate)<tol) or (abs(D_b * learning_rate)<tol):\n",
    "            #print(\"Breaking at loop\",i)\n",
    "            break\n",
    "\n",
    "    return a, b, loss"
   ]
  },
  {
   "cell_type": "markdown",
   "id": "44774f44",
   "metadata": {},
   "source": [
    "### 1.c) Generating Artificial Data and finding out best weight parameters"
   ]
  },
  {
   "cell_type": "code",
   "execution_count": 6,
   "id": "12175548",
   "metadata": {},
   "outputs": [],
   "source": [
    "np.random.seed(0)\n",
    "X = 2.5 * np.random.randn(10000) + 1.5\n",
    "res = 1.5 * np.random.randn(10000)\n",
    "y = 2 + 0.3*X + res"
   ]
  },
  {
   "cell_type": "markdown",
   "id": "f75c0850",
   "metadata": {},
   "source": [
    "Ideally We will Normalize our data, because normalization speeds up the process of gradient descent. Ref: [Wan, Xing. “Influence of Feature Scaling on Convergence of Gradient Iterative Algorithm.” Journal of Physics: Conference Series, vol. 1213, 2019, p. 032021., doi:10.1088/1742-6596/1213/3/032021. ](https://iopscience.iop.org/article/10.1088/1742-6596/1213/3/032021/pdf)\n",
    "<br/>\n",
    "But for sake of assignment, we will not normalize, because optimal value of a, b will change.  "
   ]
  },
  {
   "cell_type": "code",
   "execution_count": 7,
   "id": "59fccfe9",
   "metadata": {},
   "outputs": [
    {
     "name": "stdout",
     "output_type": "stream",
     "text": [
      "Values for a and b are: 0.2953521178190145, 2.023115349547645\n",
      "Thus the Equation of the line fitted is Y = 0.2953521178190145X + 2.023115349547645\n",
      "Final loss is 2.2187210331077\n",
      "Visualization of how loss decreases with each iteration\n"
     ]
    },
    {
     "data": {
      "image/png": "[encoded data removed]",
      "text/plain": [
       "<Figure size 432x288 with 1 Axes>"
      ]
     },
     "metadata": {
      "needs_background": "light"
     },
     "output_type": "display_data"
    }
   ],
   "source": [
    "a, b, lossLR = linear_regressor_gradients(X, y)\n",
    "print(f\"Values for a and b are: {a}, {b}\")\n",
    "print(f\"Thus the Equation of the line fitted is Y = {a}X + {b}\")\n",
    "print(\"Final loss is\",lossLR[-1])\n",
    "print(\"Visualization of how loss decreases with each iteration\")\n",
    "plt.plot(lossLR)\n",
    "plt.show()\n"
   ]
  },
  {
   "cell_type": "code",
   "execution_count": 8,
   "id": "0423f46e",
   "metadata": {},
   "outputs": [
    {
     "name": "stdout",
     "output_type": "stream",
     "text": [
      "Visualizing the fitted line on the data\n"
     ]
    },
    {
     "data": {
      "image/png": "[encoded data removed]",
      "text/plain": [
       "<Figure size 432x288 with 1 Axes>"
      ]
     },
     "metadata": {
      "needs_background": "light"
     },
     "output_type": "display_data"
    }
   ],
   "source": [
    "print(\"Visualizing the fitted line on the data\")\n",
    "line_X = np.arange(-7.5,12,0.2)\n",
    "line_Y = a*line_X + b\n",
    "plt.scatter(X, y)\n",
    "plt.plot(line_X, line_Y,'r')\n",
    "plt.xlabel('X values')\n",
    "plt.ylabel('Y values')\n",
    "plt.title('Linear Regression')\n",
    "plt.show()"
   ]
  },
  {
   "cell_type": "markdown",
   "id": "73c7d54c",
   "metadata": {},
   "source": [
    "NOTE: We know batch gradient is most likely to give optimal solution. So the loss we got here 2.2187 can be considered optimal, and we will consider loss below 2.24 acceptable going forward"
   ]
  },
  {
   "cell_type": "markdown",
   "id": "03ddd304",
   "metadata": {},
   "source": [
    "### 1.d) Implementing Minibatch Stochaistic gradient descent using the code base developed so far"
   ]
  },
  {
   "cell_type": "markdown",
   "id": "1ee62825",
   "metadata": {},
   "source": [
    "For Minibatch stochaistic gradient descent, we will use the functions we defined above. It's just that instead of passing all data, we will pass batches of data to the function. <br/>\n",
    "Going forward, when we use term SGD or implement SGD, it will use code of mini batch with batch size = 1. <br/>\n",
    "For batch selection, we are randomly choosing the index for batch"
   ]
  },
  {
   "cell_type": "code",
   "execution_count": 9,
   "id": "059eda46",
   "metadata": {},
   "outputs": [],
   "source": [
    "def mini_batch_gradient_descent(X, y, iterations=1000, batch_size=2000, learning_rate=0.01, tol=1e-06):\n",
    "    total_size = len(X)\n",
    "    num_of_batches = ceil(len(X) / batch_size) \n",
    "    #loss = []\n",
    "\n",
    "    a, b = initialize_parameters()\n",
    "    flag = False\n",
    "    index_shuf = list(range(total_size))\n",
    "    for i in range(iterations):\n",
    "        \n",
    "        # Getting a random integer. This integer is starting index of batch.\n",
    "        ind = random.randint(0,total_size-batch_size)\n",
    "        X_batch = X[ind:ind+batch_size]\n",
    "        y_batch = y[ind:ind+batch_size]\n",
    "        \n",
    "        # Forward propagation\n",
    "        y_batch_pred = predict_y(X_batch, a, b)\n",
    "        \n",
    "        # Gradient Calculation\n",
    "        da, db= compute_gradient(X_batch, y_batch, y_batch_pred,a, b)\n",
    "        \n",
    "        # Checking if weight updates are less than tolerance level\n",
    "        # If yes, we will break\n",
    "        if (abs(da*learning_rate) < tol) or (abs(db * learning_rate)<tol):\n",
    "            #print(f\"breaking at iteration {i} due to low tolerance update\")\n",
    "            flag = True\n",
    "            break\n",
    "        a, b = update_gradient(a, da, b, db, learning_rate)\n",
    "    \n",
    "    y_pred = predict_y(X, a, b)\n",
    "    loss= get_loss(y, y_pred)\n",
    "\n",
    "    return a, b, loss\n",
    "\n"
   ]
  },
  {
   "cell_type": "code",
   "execution_count": 10,
   "id": "40c46b59",
   "metadata": {},
   "outputs": [
    {
     "name": "stdout",
     "output_type": "stream",
     "text": [
      "Batch size is 500\n",
      "Values for a and b are: 0.31047632970644384, 1.9982215099045897\n",
      "Thus the Equation of the line fitted is Y = 0.31047632970644384X + 1.9982215099045897\n",
      "Final loss is 2.2201306639616414\n",
      "Visualizing the fitted line on the data\n"
     ]
    },
    {
     "data": {
      "image/png": "[encoded data removed]",
      "text/plain": [
       "<Figure size 432x288 with 1 Axes>"
      ]
     },
     "metadata": {
      "needs_background": "light"
     },
     "output_type": "display_data"
    }
   ],
   "source": [
    "# A test function call to show the code working\n",
    "a, b, lossMBLR = mini_batch_gradient_descent(X, y, iterations=10000, batch_size=500)\n",
    "print(f\"Batch size is 500\")\n",
    "print(f\"Values for a and b are: {a}, {b}\")\n",
    "print(f\"Thus the Equation of the line fitted is Y = {a}X + {b}\")\n",
    "print(\"Final loss is\",lossMBLR)\n",
    "\n",
    "print(\"Visualizing the fitted line on the data\")\n",
    "line_X = np.arange(-7.5,12,0.2)\n",
    "line_Y = a*line_X + b\n",
    "plt.scatter(X, y)\n",
    "plt.plot(line_X, line_Y,'r')\n",
    "plt.xlabel('X values')\n",
    "plt.ylabel('Y values')\n",
    "plt.title('Linear Regression Mini Batch size 500')\n",
    "plt.show()"
   ]
  },
  {
   "cell_type": "markdown",
   "id": "98e596e3",
   "metadata": {},
   "source": [
    "### 1.e) Finding out whether SGD Does better or Worse in terms of time performance\n",
    "#### NOTE: SGD can be thought of as Specialized version of Minibatch Stochaistic Gradient Descent where Batch size = 1. We will be using this in our code"
   ]
  },
  {
   "cell_type": "code",
   "execution_count": 11,
   "id": "4002a323",
   "metadata": {},
   "outputs": [
    {
     "name": "stdout",
     "output_type": "stream",
     "text": [
      "Values for a and b are: 0.2407515491267567, 1.9742022898383491\n",
      "Thus the Equation of the line fitted is Y = 0.2407515491267567X + 1.9742022898383491\n",
      "Final loss is 2.2201306639616414\n",
      "Visualizing the fitted line on the data\n"
     ]
    },
    {
     "data": {
      "image/png": "[encoded data removed]",
      "text/plain": [
       "<Figure size 432x288 with 1 Axes>"
      ]
     },
     "metadata": {
      "needs_background": "light"
     },
     "output_type": "display_data"
    }
   ],
   "source": [
    "# SGD\n",
    "\n",
    "a, b, lossSGD = mini_batch_gradient_descent(X, y, iterations=10000, batch_size=1, learning_rate=0.001, tol=1e-07)\n",
    "print(f\"Values for a and b are: {a}, {b}\")\n",
    "print(f\"Thus the Equation of the line fitted is Y = {a}X + {b}\")\n",
    "print(\"Final loss is\",lossMBLR)\n",
    "\n",
    "print(\"Visualizing the fitted line on the data\")\n",
    "line_X = np.arange(-7.5,12,0.2)\n",
    "line_Y = a*line_X + b\n",
    "plt.scatter(X, y)\n",
    "plt.plot(line_X, line_Y,'r')\n",
    "plt.xlabel('X values')\n",
    "plt.ylabel('Y values')\n",
    "plt.title('Linear Regression Stochaistic Gradient Descent')\n",
    "plt.show()"
   ]
  },
  {
   "cell_type": "markdown",
   "id": "7e3285c5",
   "metadata": {},
   "source": [
    "#### We will be considering a batch size of 200 ahead for for Mini batch analysis. We will find optimal batch later"
   ]
  },
  {
   "cell_type": "markdown",
   "id": "1fead8fe",
   "metadata": {},
   "source": [
    "Randomly sampling best alpha value\n",
    "Range is to be 0.0001 to 0.1\n"
   ]
  },
  {
   "cell_type": "markdown",
   "id": "975ec65e",
   "metadata": {},
   "source": [
    "#### Finding a good learning rate for Mini Batch size = 200\n",
    "Also finding learning rate for size 500 and 2000 to see how learning rate behaves when size increases\n",
    "\n",
    "NOTE: For Learning rate sampling we will be sampling it on logarithmic scale, instead of generating sample within range on range. Intuition: Suppose you uniformly find values between 0 to 1, here only 10% of values will come between 0 to 0.1 and 90% between 0.1 to 1. This is not suitable when finding learning rate, thats why its sampled on log scale\n",
    "REF : [Learning Rate Sampling](https://stats.stackexchange.com/questions/291552/why-do-we-sample-from-log-space-when-optimizing-learning-rate-regularization-p)"
   ]
  },
  {
   "cell_type": "code",
   "execution_count": 12,
   "id": "9284b358",
   "metadata": {},
   "outputs": [],
   "source": [
    "a, b = 0.0001, 0.1\n",
    "loga = math.log2(a)\n",
    "logb = math.log2(b)\n",
    "x= np.random.uniform(loga, logb,size=50)\n",
    "learning_rate_samples = 2**x\n",
    "learning_rate_lookup = []\n",
    "for learning_rate in learning_rate_samples:\n",
    "    a, b, loss = mini_batch_gradient_descent(X, y, iterations = 5000, batch_size=200, learning_rate=learning_rate, tol=1e-06)\n",
    "    learning_rate_lookup.append([learning_rate, a, b, loss])\n",
    "    #print(learning_rate, loss[-1])"
   ]
  },
  {
   "cell_type": "code",
   "execution_count": 13,
   "id": "33b3aa2d",
   "metadata": {},
   "outputs": [
    {
     "name": "stdout",
     "output_type": "stream",
     "text": [
      "TOP Five values for learning rates are\n",
      "1: rate:0.00327327321608322 ,loss:2.2187723852721737\n",
      "2: rate:0.0019648293640002036 ,loss:2.2187997810557185\n",
      "3: rate:0.016926047986503923 ,loss:2.2188124246494763\n",
      "4: rate:0.014780050446263989 ,loss:2.218812794172842\n",
      "5: rate:0.0031468582829297606 ,loss:2.218837112173214\n"
     ]
    }
   ],
   "source": [
    "learning_rate_lookup.sort(key= lambda x:x[-1])\n",
    "print(\"TOP Five values for learning rates are\")\n",
    "for i in range(5):\n",
    "    print(f\"{i+1}: rate:{learning_rate_lookup[i][0]} ,loss:{learning_rate_lookup[i][-1]}\")"
   ]
  },
  {
   "cell_type": "markdown",
   "id": "afebb980",
   "metadata": {},
   "source": [
    "Ideal learning rate for size 200 is around 0.005"
   ]
  },
  {
   "cell_type": "code",
   "execution_count": 14,
   "id": "4bc0d415",
   "metadata": {},
   "outputs": [],
   "source": [
    "a, b = 0.0001, 0.1\n",
    "loga = math.log2(a)\n",
    "logb = math.log2(b)\n",
    "x= np.random.uniform(loga, logb,size=50)\n",
    "learning_rate_samples = 2**x\n",
    "learning_rate_lookup = []\n",
    "for learning_rate in learning_rate_samples:\n",
    "    a, b, loss = mini_batch_gradient_descent(X, y, iterations = 5000, batch_size=500, learning_rate=learning_rate, tol=1e-06)\n",
    "    learning_rate_lookup.append([learning_rate, a, b, loss])\n",
    "    #print(learning_rate, loss[-1])"
   ]
  },
  {
   "cell_type": "code",
   "execution_count": 15,
   "id": "ace2a8f7",
   "metadata": {},
   "outputs": [
    {
     "name": "stdout",
     "output_type": "stream",
     "text": [
      "TOP Five values for learning rates are\n",
      "1: rate:0.051110579917963556 ,loss:2.2188094244441228\n",
      "2: rate:0.03396125293094913 ,loss:2.21882113739161\n",
      "3: rate:0.010838208680220169 ,loss:2.2188222791922096\n",
      "4: rate:0.009354693050294741 ,loss:2.218924891996941\n",
      "5: rate:0.007580662539215299 ,loss:2.2189678194540354\n"
     ]
    }
   ],
   "source": [
    "learning_rate_lookup.sort(key= lambda x:x[-1])\n",
    "print(\"TOP Five values for learning rates are\")\n",
    "for i in range(5):\n",
    "    print(f\"{i+1}: rate:{learning_rate_lookup[i][0]} ,loss:{learning_rate_lookup[i][-1]}\")"
   ]
  },
  {
   "cell_type": "markdown",
   "id": "7080699a",
   "metadata": {},
   "source": [
    "Learning Rate for size 500 is around 0.01"
   ]
  },
  {
   "cell_type": "code",
   "execution_count": 16,
   "id": "67a67116",
   "metadata": {},
   "outputs": [],
   "source": [
    "a, b = 0.0001, 0.1\n",
    "loga = math.log2(a)\n",
    "logb = math.log2(b)\n",
    "x= np.random.uniform(loga, logb,size=50)\n",
    "learning_rate_samples = 2**x\n",
    "learning_rate_lookup = []\n",
    "for learning_rate in learning_rate_samples:\n",
    "    a, b, loss = mini_batch_gradient_descent(X, y, iterations = 5000, batch_size=2000, learning_rate=learning_rate, tol=1e-06)\n",
    "    learning_rate_lookup.append([learning_rate, a, b, loss])\n",
    "    #print(learning_rate, loss[-1])"
   ]
  },
  {
   "cell_type": "code",
   "execution_count": 17,
   "id": "87452caa",
   "metadata": {},
   "outputs": [
    {
     "name": "stdout",
     "output_type": "stream",
     "text": [
      "TOP Five values for learning rates are\n",
      "1: rate:0.004966679597984776 ,loss:2.2187483062549105\n",
      "2: rate:0.013286602439573485 ,loss:2.2187677059322963\n",
      "3: rate:0.004000515663670953 ,loss:2.218794512071672\n",
      "4: rate:0.008937064147733811 ,loss:2.21879932756744\n",
      "5: rate:0.03776790709910573 ,loss:2.2188134811057445\n"
     ]
    }
   ],
   "source": [
    "learning_rate_lookup.sort(key= lambda x:x[-1])\n",
    "print(\"TOP Five values for learning rates are\")\n",
    "for i in range(5):\n",
    "    print(f\"{i+1}: rate:{learning_rate_lookup[i][0]} ,loss:{learning_rate_lookup[i][-1]}\")"
   ]
  },
  {
   "cell_type": "markdown",
   "id": "ae997d60",
   "metadata": {},
   "source": [
    "Learning rate for batch size 200 is around 0.03<br/>\n",
    "We notice here that as we increase batch size, our ideal learning rate is also increasing. We will keep this thing in mind. For lower minibatch size time comparison, we use lower rate. This intuitively makes sense too, because we are considering small amount of data, our gradient can be noisy for iterations, so for lower batch size lower learning rate will be better"
   ]
  },
  {
   "cell_type": "markdown",
   "id": "d4d13f40",
   "metadata": {},
   "source": [
    "#### Finding a good learning rate for Stochaistic"
   ]
  },
  {
   "cell_type": "code",
   "execution_count": 18,
   "id": "c095ca98",
   "metadata": {},
   "outputs": [],
   "source": [
    "a, b = 0.0001, 0.01\n",
    "loga = math.log2(a)\n",
    "logb = math.log2(b)\n",
    "x= np.random.uniform(loga, logb,size=50)\n",
    "learning_rate_samples = 2**x\n",
    "learning_rate_lookup = []\n",
    "for learning_rate in learning_rate_samples:\n",
    "    a, b, loss = mini_batch_gradient_descent(X, y, iterations = 10000, batch_size=1, learning_rate=learning_rate, tol=1e-7)\n",
    "    learning_rate_lookup.append([learning_rate, a, b, loss])\n",
    "    #print(learning_rate, loss)"
   ]
  },
  {
   "cell_type": "code",
   "execution_count": 19,
   "id": "4f39e969",
   "metadata": {},
   "outputs": [
    {
     "name": "stdout",
     "output_type": "stream",
     "text": [
      "TOP Five values for learning rates are\n",
      "1: rate:0.0007696174590390582 ,loss:2.219935947417984\n",
      "2: rate:0.002397796069472783 ,loss:2.219948773640482\n",
      "3: rate:0.0004520078239539641 ,loss:2.2208728128938287\n",
      "4: rate:0.0004454626075608048 ,loss:2.2215242678369647\n",
      "5: rate:0.000686238675131443 ,loss:2.2228496333461267\n"
     ]
    }
   ],
   "source": [
    "learning_rate_lookup.sort(key= lambda x:x[-1])\n",
    "print(\"TOP Five values for learning rates are\")\n",
    "for i in range(5):\n",
    "    print(f\"{i+1}: rate:{learning_rate_lookup[i][0]} ,loss:{learning_rate_lookup[i][-1]}\")"
   ]
  },
  {
   "cell_type": "markdown",
   "id": "dd820fa0",
   "metadata": {},
   "source": [
    "Ideal values for learning rate for SGD lies around 0.0004 to 0.001. This makes perfect sense too because of the noisiness explanation given above"
   ]
  },
  {
   "cell_type": "markdown",
   "id": "3c729cc5",
   "metadata": {},
   "source": [
    "#### Putting things together.<br/>\n",
    "\n",
    "Now comparing Timings \n",
    "\n",
    "- we will be using (Tolerance =1e-8, learning rate= 0.0005),(tolerance=1e-7, and learning rate=0.005),(tolerance=1e-6, and learning rate=0.05) for Stochaistic and Minibatch GD, and Normal Batch GD. \n",
    "- Perform the loop 5 times and get average times.\n",
    "- Minibatch Size will be 200\n",
    "- Iteration numbers will be kept high, so that function converges based on tolerance value"
   ]
  },
  {
   "cell_type": "code",
   "execution_count": 20,
   "id": "99a3d3d9",
   "metadata": {},
   "outputs": [],
   "source": [
    "def time_test_minibatch(X, y,iters, batch_size, learning_rate, tol, iterations=30000):\n",
    "    # This is function that gets average time \n",
    "    # It just calls the mini batch function and notes down average loss and time\n",
    "    total_loss = 0\n",
    "    total_time = 0\n",
    "    for i in range(iters):\n",
    "        start = time.time()\n",
    "        a, b, loss = mini_batch_gradient_descent(\n",
    "            X, y, iterations = iterations, batch_size=batch_size, learning_rate=learning_rate, tol=tol)\n",
    "\n",
    "        total_loss += loss\n",
    "        total_time += (time.time() - start)\n",
    "    print(\"Average Loss:\", total_loss/iters)\n",
    "    print(\"Average Time:\", total_time/iters)\n",
    "\n",
    "    print(\"\")"
   ]
  },
  {
   "cell_type": "code",
   "execution_count": 21,
   "id": "59795708",
   "metadata": {},
   "outputs": [
    {
     "name": "stdout",
     "output_type": "stream",
     "text": [
      "Stochaistic Gradient Descent with Learning Rate 0.05 and tolerance 1e-6\n",
      "Average Loss: 4.282509314664624\n",
      "Average Time: 0.15025734901428223\n",
      "\n",
      "Stochaistic Gradient Descent with Learning Rate 0.005 and tolerance 1e-7\n",
      "Average Loss: 2.3596015664347627\n",
      "Average Time: 0.21820516586303712\n",
      "\n",
      "Stochaistic Gradient Descent with Learning Rate 0.0005 and tolerance 1e-8\n",
      "Average Loss: 2.2296964769970598\n",
      "Average Time: 0.25139517784118653\n",
      "\n"
     ]
    }
   ],
   "source": [
    "import time\n",
    "\n",
    "print(\"Stochaistic Gradient Descent with Learning Rate 0.05 and tolerance 1e-6\")\n",
    "time_test_minibatch(X, y, iters=5, batch_size=1, learning_rate=0.05, tol=1e-6)\n",
    "\n",
    "print(\"Stochaistic Gradient Descent with Learning Rate 0.005 and tolerance 1e-7\")\n",
    "time_test_minibatch(X, y, iters=5, batch_size=1, learning_rate=0.005, tol=1e-7)\n",
    "\n",
    "print(\"Stochaistic Gradient Descent with Learning Rate 0.0005 and tolerance 1e-8\")\n",
    "time_test_minibatch(X, y, iters=5, batch_size=1, learning_rate=0.0005, tol=1e-8)\n"
   ]
  },
  {
   "cell_type": "code",
   "execution_count": 22,
   "id": "01160e73",
   "metadata": {},
   "outputs": [
    {
     "name": "stdout",
     "output_type": "stream",
     "text": [
      "Minibatch Gradient Descent with Learning Rate 0.05 and tolerance 1e-6\n",
      "Average Loss: 2.2233125896560146\n",
      "Average Time: 0.4792137622833252\n",
      "\n",
      "Minibatch Gradient Descent with Learning Rate 0.005 and tolerance 1e-7\n",
      "Average Loss: 2.2190745082841983\n",
      "Average Time: 0.735528039932251\n",
      "\n",
      "Minibatch Gradient Descent with Learning Rate 0.0005 and tolerance 1e-8\n",
      "Average Loss: 2.2202236555712878\n",
      "Average Time: 0.6750340461730957\n",
      "\n"
     ]
    }
   ],
   "source": [
    "print(\"Minibatch Gradient Descent with Learning Rate 0.05 and tolerance 1e-6\")\n",
    "time_test_minibatch(X, y, iters=5, batch_size=200, learning_rate=0.05, tol=1e-6)\n",
    "\n",
    "print(\"Minibatch Gradient Descent with Learning Rate 0.005 and tolerance 1e-7\")\n",
    "time_test_minibatch(X, y, iters=5, batch_size=200, learning_rate=0.005, tol=1e-7)\n",
    "\n",
    "print(\"Minibatch Gradient Descent with Learning Rate 0.0005 and tolerance 1e-8\")\n",
    "time_test_minibatch(X, y, iters=5, batch_size=200, learning_rate=0.0005, tol=1e-8)\n"
   ]
  },
  {
   "cell_type": "markdown",
   "id": "014e807e",
   "metadata": {},
   "source": [
    "#### NOTE: For comparing Normal batch GD, I will be using the algorithm for minibatch and pass batch_size= length of data.\n",
    "Reasoning behind is that, since we are using the same function for Minibatch and SGD too, so for time comparison also we should be using same function. Difference between function of normal batch GD and Minibatch algorithm is a shuffling step. "
   ]
  },
  {
   "cell_type": "code",
   "execution_count": 23,
   "id": "29118130",
   "metadata": {},
   "outputs": [
    {
     "name": "stdout",
     "output_type": "stream",
     "text": [
      "Normal Batch Gradient Descent with Learning Rate 0.05 and tolerance 1e-6\n",
      "Average Loss: 2.218721013108537\n",
      "Average Time: 0.27994494438171386\n",
      "\n",
      "Normal Batch Gradient Descent with Learning Rate 0.05 and tolerance 1e-6\n",
      "Average Loss: 2.218721013256348\n",
      "Average Time: 2.96706223487854\n",
      "\n",
      "Normal Batch Gradient Descent with Learning Rate 0.0005 and tolerance 1e-8\n",
      "Average Loss: 2.218721013273506\n",
      "Average Time: 26.715547037124633\n",
      "\n"
     ]
    }
   ],
   "source": [
    "print(\"Normal Batch Gradient Descent with Learning Rate 0.05 and tolerance 1e-6\")\n",
    "time_test_minibatch(X, y, iters=5, batch_size=len(X), learning_rate=0.05, tol=1e-6)\n",
    "\n",
    "print(\"Normal Batch Gradient Descent with Learning Rate 0.05 and tolerance 1e-6\")\n",
    "time_test_minibatch(X, y, iters=5, batch_size=len(X), learning_rate=0.005, tol=1e-7)\n",
    "\n",
    "print(\"Normal Batch Gradient Descent with Learning Rate 0.0005 and tolerance 1e-8\")\n",
    "time_test_minibatch(X, y, iters=5, batch_size=len(X), learning_rate=0.0005, tol=1e-8)\n"
   ]
  },
  {
   "cell_type": "markdown",
   "id": "8415eaaa",
   "metadata": {},
   "source": [
    "### Observation:\n",
    "- SGD is working good when learning rate is around 0.0005, and tol = 1e-8.\n",
    "- SGD starts performing poorly as we increase learning rate.\n",
    "- SGD performs very poorly when learning rate is around 0.05 and tolerance = 1e-6\n",
    "- In terms of time performance, SGD was found to be faster at convergence, when accompanied with lower learning rate and an ideal tolerance value. If poor learning rate and tolerance values are use, SGD ends up suffering with higher times, or bad performace or both.\n",
    "- SGD was giving good results, but it never reached optimal result. \n",
    "\n",
    "- Mini Batch performs reasonably well on all values of learning rates and tolerance, but its time keeps increasing when decreasing learning rate. This makes sense because lower learning rate means slow convergence for minibatch.\n",
    "- Even mini batch doesn't reaches global minima like SGD but its significantly better, it isn't that noisy.\n",
    "\n",
    "- SGD Converges faster, because weights are updated more frequently. One example updates weight, where in mini batch, we are updating weights after processing a batch.\n",
    "\n",
    "- For comparison with Normal Batch Gradient Descent, It always converged to optimal solution, given good learning rate and tolerance. But this turned out to be slowest of all but best performance in terms of optimal solution\n",
    "\n",
    "- For minibatch, when we keep increasing batch size, algorithm performs better on higher learning rates and in correspondance, higher tolerance value\n",
    "\n",
    "- In short, SGD is faster but not only good performance. Minibatch is fast but not faster than SGD but has better performance. Batch Descent is slowest but has best performance"
   ]
  },
  {
   "cell_type": "markdown",
   "id": "b89652fd",
   "metadata": {},
   "source": [
    "#### Finding Idea Batch Sizes\n",
    "- We will be fixing learning rate at 0.05 for comparison sake\n",
    "- First we will compute time and loss for minibatch of sizes from 5 to 2000 with increments of 20\n",
    "- We will try to find intuition on time and loss"
   ]
  },
  {
   "cell_type": "code",
   "execution_count": 24,
   "id": "77b1f820",
   "metadata": {},
   "outputs": [],
   "source": [
    "mini_batches = list(range(5,2000, 20))\n",
    "lookup = []\n",
    "for batch_size in mini_batches:\n",
    "    start = time.time()\n",
    "    a, b, loss = mini_batch_gradient_descent(X, y, iterations = 3000, batch_size=batch_size, learning_rate=0.05)\n",
    "    end = time.time()\n",
    "    lookup.append([batch_size, end-start,loss])\n"
   ]
  },
  {
   "cell_type": "markdown",
   "id": "8b5db02a",
   "metadata": {},
   "source": [
    "- We have values for batch size, time taken and loss stored in list\n",
    "- First We will first threshold loss value to be below 2.22\n",
    "- Then we will plot time vs batch size"
   ]
  },
  {
   "cell_type": "code",
   "execution_count": 25,
   "id": "d638e104",
   "metadata": {},
   "outputs": [
    {
     "data": {
      "image/png": "[encoded data removed]",
      "text/plain": [
       "<Figure size 432x288 with 1 Axes>"
      ]
     },
     "metadata": {
      "needs_background": "light"
     },
     "output_type": "display_data"
    }
   ],
   "source": [
    "lookupnp = np.array(lookup)\n",
    "lookuptime= lookupnp[lookupnp[:,2]<2.22]\n",
    "plt.scatter(lookuptime[:,0], lookuptime[:,1])\n",
    "plt.show()"
   ]
  },
  {
   "cell_type": "markdown",
   "id": "dff24dcc",
   "metadata": {},
   "source": [
    "- Its is clear here that, time taken for lower values of batch is lower, but as the size increases, the time taken also increases. \n",
    "- If we notice the scattering points are more concentrated towards higher value of batch size, this indicate that when batch size was lower, more values got thresholded, meaning we got more optimal losses when batch size was high."
   ]
  },
  {
   "cell_type": "markdown",
   "id": "b6451893",
   "metadata": {},
   "source": [
    "Now lets ignore the time, we will now look at loss again. "
   ]
  },
  {
   "cell_type": "code",
   "execution_count": 26,
   "id": "3ee88a34",
   "metadata": {},
   "outputs": [
    {
     "data": {
      "image/png": "[encoded data removed]",
      "text/plain": [
       "<Figure size 432x288 with 1 Axes>"
      ]
     },
     "metadata": {
      "needs_background": "light"
     },
     "output_type": "display_data"
    }
   ],
   "source": [
    "plt.plot(lookupnp[1:,0], lookupnp[1:,-1])\n",
    "plt.show()"
   ]
  },
  {
   "cell_type": "markdown",
   "id": "b0bbb818",
   "metadata": {},
   "source": [
    "- Its clearly visible here, that even though, loss is at good value for lower values of batch sizes, once the batch sizes are too large, the loss is going to be more likely to reach optimal values. \n",
    "- This doesn't mean batch size should be small. \n"
   ]
  },
  {
   "cell_type": "markdown",
   "id": "031a112f",
   "metadata": {},
   "source": [
    "Final words on Optimal batch size\n",
    "- The optimal batch size is the one that suits you.\n",
    "- If you want better time, and a good solution(but not a very good or best solution) you can go with smaller batches\n",
    "- If you need very good solutions but can accept more time, larger batches or batch descent works\n",
    "- A batch value in middle can also be chosen as a middle ground"
   ]
  },
  {
   "cell_type": "markdown",
   "id": "7fb3708d",
   "metadata": {},
   "source": [
    "=================================================================================================="
   ]
  },
  {
   "cell_type": "markdown",
   "id": "2406b597",
   "metadata": {},
   "source": [
    "## Question 2) Probablity problem on  Bayesian network\n",
    "Below is the image. Click on it to see full sized.\n",
    "<a href=\"https://ibb.co/1zcG08K\"><img src=\"https://i.ibb.co/1zcG08K/image.png\" alt=\"image\" border=\"0\"></a>\n",
    "#### i) We need to Find probablity that someone has both cold and a fever\n"
   ]
  },
  {
   "cell_type": "markdown",
   "id": "29dc73b3",
   "metadata": {},
   "source": [
    "$ P(Cold=T) = 0.02 $\n",
    "\n",
    "$ P(Fever=T | Cold=T) = 0.307 $\n",
    "\n",
    "Now we know Bayes Theorem is given as $$ P(A | B) = \\frac {P(A \\cap B)}  {P(B)} $$\n",
    "\n",
    "We need to find $P(Fever=T \\cap Cold=T)$. \n",
    "\n",
    "Thus $ P(Fever=T \\cap Cold=T) = P(Fever=T | Cold=T) * P(Cold=T) = 0.02 * 0.307 = 0.00614 $"
   ]
  },
  {
   "cell_type": "markdown",
   "id": "b7c4f5ee",
   "metadata": {},
   "source": [
    "#### ii) Find the probability that someone who has a cough has a cold\n",
    "We need to find $ P(Cold | Cough) $ <br/>\n",
    "We can see to find $ P(Cold) $, we also need $ P(Lung Disease) $. So we will calculate this first <br/>\n",
    "$ P(Lung Disease=T) = P(Smokes=T) * P(Lung Disease=T|Smokes=T) + P(Smokes=F) * P(Lung Disease=T| Smokes=F) $ <br/>\n",
    "$ P(Lung Disease=T) = 0.2 * 0.1009 + 0.8 * 0.001 $ <br/>\n",
    "$ P(Lung Disease=T) = 0.02098 $ <br/>\n",
    "Also $ P(Lung Disease=F) = 1 - P(Lung Disease=T) = 1 - 0.02098 = 0.97902$ <br/><br/>\n",
    "Now we need to find, <br/>$ P(Cough=T) =$<br/>\n",
    "&emsp;&emsp;&emsp;&emsp;&emsp;$P(Cough=T/Lung Disease=T, Cold=T)* P(Lung Disease=T) * P(Cold=T) +$<br/>\n",
    "&emsp;&emsp;&emsp;&emsp;&emsp;$P(Cough=T/Lung Disease=T, Cold=F)* P(Lung Disease=T) * P(Cold=F) +$<br/>\n",
    "&emsp;&emsp;&emsp;&emsp;&emsp;$P(Cough=T/Lung Disease=F, Cold=T)* P(Lung Disease=F) * P(Cold=T) +$<br/>\n",
    "&emsp;&emsp;&emsp;&emsp;&emsp;$P(Cough=T/Lung Disease=F, Cold=F)* P(Lung Disease=F) * P(Cold=F) +$<br/><br/>\n",
    "$ P(Cough=T) = 0.7525*0.02*0.02098 + 0.505*0.02098*0.98 + 0.505*0.97902*0.02 + 0.01*0.970902*0.98 = 0.0301 $ "
   ]
  },
  {
   "cell_type": "markdown",
   "id": "7271931c",
   "metadata": {},
   "source": [
    "Now we find $P(Cold=T|Cough=T)= $ <br/> \n",
    "$\\frac{P(Cough=T|Lung Disease=T,Cold=T)*P(Lung Disease=T)*P(Cold=T) + P(Cough=T|Lung Disease=F,Cold=T)*P(Lung Disease=T)*P(Cold=T)}{P(Cough=T)}$\n",
    "<br/><br/>\n",
    "$P(Cold=T|Cough=T)= \\frac{0.7525*0.02*0.02098 + 0.505*0.97902*0.02}{0.0301} = 0.3389$\n"
   ]
  },
  {
   "cell_type": "markdown",
   "id": "8f14b783",
   "metadata": {},
   "source": [
    "## Question 3) Derive MLE for the parameters of a k-sided multinomial distribution"
   ]
  },
  {
   "cell_type": "markdown",
   "id": "b59a2df1",
   "metadata": {},
   "source": [
    "Multinomial distribution is a generalization of the binomial distribution. Instead of 2 outcomes like in binomial distribution, we will have multiple outcomes. Eg) It models the probablity of counts for each side of a k-sided dice is tossed n times. <br/>\n",
    "A multinomial experiment has following properties:\n",
    "- The experiment consist of n repeated trials.\n",
    "- Each trial has discrete number(k) of possible outcomes.\n",
    "- On any given trial, the probablity of particular outcome will be constant.\n",
    "- The trials are independent.\n"
   ]
  },
  {
   "cell_type": "markdown",
   "id": "1fe36fed",
   "metadata": {},
   "source": [
    "#### Derivation:\n",
    "Consider distribution with $k$-sided outcomes, and n trials. $X_1, X_2 ... X_k$ be the count of the $k$ possible outcomes respectively.\n",
    "Probablity of each $k$ possible outcome is $P_i$.<br/>\n",
    "Thus since there are a total of $n$ trials, $$ \\sum_1^k X_{i} = n $$<br/>\n",
    "Also individual probablities should also sum up to 1. $$ \\sum_1^k P_i = 1 $$ <br/>\n",
    "Probablity function of Multinomial distribution is given as <br/>\n",
    "$$P(X_1=x_1, .. X_k=x_k) = \\frac{n!}{\\prod_1^k{x_i}} \\prod_1^k p_i^{x_i} $$\n",
    "Now for this, let us consider the Log likelyhood that is to be maximized<br/>\n",
    "$$ L(p) = log(\\frac{n!}{\\prod_1^k{x_i}} \\prod_1^k p_i^{x_i}) $$\n",
    "$$ L(p) = log(n!) - \\sum_1^k{log(x_i!)} + \\sum_1^k x_ilog(p_i)$$\n"
   ]
  },
  {
   "cell_type": "markdown",
   "id": "6e9b46de",
   "metadata": {},
   "source": [
    "We have to maximize this likelyhood, but we also need to consider the constrain $ \\sum_1^k P_i = 1 $ so we will have to use lagrange multiplier.<br/>\n",
    "$$L'(p,\\lambda) = L(p) + \\lambda(1-\\sum_1^k P_{i})$$\n",
    "By posing derative to 0 for all p to find $ arg max_pL'(p,\\lambda) $, we get <br/>\n",
    "$$ \\frac{\\partial L'(p,\\lambda)}{\\partial p_i} = \\frac{\\partial}{\\partial p_i}L(p)+ \\frac{\\partial}{\\partial p_i}\\lambda(1-\\sum_1^k p_i) = 0$$\n",
    "$$  \\frac{\\partial}{\\partial p_i}\\sum_1^k{x_ilogp_i} + \\lambda(\\frac{\\partial}{\\partial p_i}1-\\frac{\\partial}{\\partial p_i}\\sum_1^k p_i)=0 $$\n",
    "$$ \\frac{x_i}{p_i} - \\lambda = 0$$\n",
    "$$ x_i= {\\lambda}{p_i} $$\n",
    "Now we know: $$\\sum_1^k{x_i} =  \\lambda\\sum_1^k{p_i} $$\n",
    "$$ n = \\lambda $$\n",
    "Thus:\n",
    "$$ p_i = \\frac{x_i}{n} $$\n",
    "Thus the parameters that maximises the likelyhood is given as \n",
    "$$ p = (\\frac{x_i}{n},..,\\frac{x_k}{n}) $$"
   ]
  }
 ],
 "metadata": {
  "interpreter": {
   "hash": "05609f2aff9b475fc390bb0af3c8c7c7d6f9d25f0188348496d9c90733d36eab"
  },
  "kernelspec": {
   "display_name": "Python 3 (ipykernel)",
   "language": "python",
   "name": "python3"
  },
  "language_info": {
   "codemirror_mode": {
    "name": "ipython",
    "version": 3
   },
   "file_extension": ".py",
   "mimetype": "text/x-python",
   "name": "python",
   "nbconvert_exporter": "python",
   "pygments_lexer": "ipython3",
   "version": "3.9.6"
  }
 },
 "nbformat": 4,
 "nbformat_minor": 5
}
